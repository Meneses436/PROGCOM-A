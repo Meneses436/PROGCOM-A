{
  "nbformat": 4,
  "nbformat_minor": 0,
  "metadata": {
    "colab": {
      "provenance": []
    },
    "kernelspec": {
      "name": "python3",
      "display_name": "Python 3"
    },
    "language_info": {
      "name": "python"
    }
  },
  "cells": [
    {
      "cell_type": "code",
      "execution_count": 1,
      "metadata": {
        "colab": {
          "base_uri": "https://localhost:8080/"
        },
        "id": "5uhSbL-R9XWB",
        "outputId": "a6a9d828-2fa0-48b9-8a97-2d0c847e91c6"
      },
      "outputs": [
        {
          "output_type": "stream",
          "name": "stdout",
          "text": [
            "[2, 4, 6, 8, 10, 12, 14, 16, 18, 20, 22, 24, 26, 28, 30, 32, 34, 36, 38, 40, 42, 44, 46, 48, 50, 52, 54, 56, 58, 60, 62, 64, 66, 68, 70, 72, 74, 76, 78, 80, 82, 84, 86, 88, 90, 92, 94, 96, 98, 100]\n"
          ]
        }
      ],
      "source": [
        "pares = list(filter(lambda x: x % 2 == 0, range(1, 101)))\n",
        "print(pares)"
      ]
    },
    {
      "cell_type": "code",
      "source": [
        "numero = input(\"Introduce un número: \")\n",
        "digitos = lambda x: sum(int(digito) for digito in x)\n",
        "print(f\"La suma de los dígitos es: {digitos(numero)}\")"
      ],
      "metadata": {
        "colab": {
          "base_uri": "https://localhost:8080/"
        },
        "id": "zBlMHcm1-bFi",
        "outputId": "3b323256-7b4c-422d-eae6-1196b9055e37"
      },
      "execution_count": 3,
      "outputs": [
        {
          "output_type": "stream",
          "name": "stdout",
          "text": [
            "Introduce un número: 11\n",
            "La suma de los dígitos es: 2\n"
          ]
        }
      ]
    },
    {
      "cell_type": "code",
      "source": [
        "powrimo = lambda n: n > 1 and (lambda: [False for i in range(2, int(n**0.5) + 1) if n % i == 0] == [])()\n",
        "numero = int(input(\"Introduce un número: \"))\n",
        "\n",
        "if primo(numero):\n",
        "    print(f\"{numero} es un número primo.\")\n",
        "else:\n",
        "    print(f\"{numero} no es un número primo.\")"
      ],
      "metadata": {
        "id": "vXobgi8S-ggY"
      },
      "execution_count": null,
      "outputs": []
    },
    {
      "cell_type": "code",
      "source": [
        "altura = int(input(\"Introduce la altura del triángulo: \"))\n",
        "triangulo = lambda h: [print('*' * (i+1)) for i in range(h)]\n",
        "triangulo(altura)"
      ],
      "metadata": {
        "colab": {
          "base_uri": "https://localhost:8080/"
        },
        "id": "P4qQDvdG-lb8",
        "outputId": "b4eaa2d0-5cd3-4fe6-b32d-caf949acf814"
      },
      "execution_count": 7,
      "outputs": [
        {
          "output_type": "stream",
          "name": "stdout",
          "text": [
            "Introduce la altura del triángulo: 5\n",
            "*\n",
            "**\n",
            "***\n",
            "****\n",
            "*****\n"
          ]
        },
        {
          "output_type": "execute_result",
          "data": {
            "text/plain": [
              "[None, None, None, None, None]"
            ]
          },
          "metadata": {},
          "execution_count": 7
        }
      ]
    },
    {
      "cell_type": "code",
      "source": [
        "import random\n",
        "colores = [input(f\"Introduce el color {i+1}: \") for i in range(10)]\n",
        "color = random.choice(colores)\n",
        "adivinanza = lambda intento: intento == color\n",
        "intentos = 0\n",
        "while intentos < 10:\n",
        "    intento = input(\"Adivina el color: \")\n",
        "    if adivinanza(intento):\n",
        "        print(\"¡Correcto! Has adivinado el color.\")\n",
        "        break\n",
        "    else:\n",
        "        print(\"Incorrecto. Intenta nuevamente.\")\n",
        "    intentos += 1\n",
        "\n",
        "if intentos == 10:\n",
        "    print(f\"¡Lo siento! El color correcto era: {color}\")"
      ],
      "metadata": {
        "colab": {
          "base_uri": "https://localhost:8080/"
        },
        "id": "-MshHAoc-tD1",
        "outputId": "7104858f-5190-44b9-9a57-d26d12d8d413"
      },
      "execution_count": 8,
      "outputs": [
        {
          "output_type": "stream",
          "name": "stdout",
          "text": [
            "Introduce el color 1: azul\n",
            "Introduce el color 2: rojo\n",
            "Introduce el color 3: verde\n",
            "Introduce el color 4: amarillo\n",
            "Introduce el color 5: violeta\n",
            "Introduce el color 6: negro\n",
            "Introduce el color 7: blanco\n",
            "Introduce el color 8: oro\n",
            "Introduce el color 9: cobriso\n",
            "Introduce el color 10: rosa\n",
            "Adivina el color: amarillo\n",
            "Incorrecto. Intenta nuevamente.\n",
            "Adivina el color: rojo\n",
            "Incorrecto. Intenta nuevamente.\n",
            "Adivina el color: cobriso\n",
            "Incorrecto. Intenta nuevamente.\n",
            "Adivina el color: negro\n",
            "Incorrecto. Intenta nuevamente.\n",
            "Adivina el color: azul\n",
            "Incorrecto. Intenta nuevamente.\n",
            "Adivina el color: blanco\n",
            "¡Correcto! Has adivinado el color.\n"
          ]
        }
      ]
    }
  ]
}